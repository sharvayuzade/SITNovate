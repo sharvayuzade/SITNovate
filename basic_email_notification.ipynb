{
 "cells": [
  {
   "cell_type": "code",
   "execution_count": 1,
   "metadata": {},
   "outputs": [
    {
     "name": "stdout",
     "output_type": "stream",
     "text": [
      "Email was sent\n"
     ]
    }
   ],
   "source": [
    "import smtplib\n",
    "from email.mime.text import MIMEText as mt\n",
    "from email.mime.multipart import MIMEMultipart as mmp\n",
    "SMTP = \"smtp.gmail.com\"\n",
    "PORT = 587\n",
    "EADDRESS = \"sharparcypher@gmail.com\"\n",
    "EPASS = \"gzyf sczw oqlq kcim\"\n",
    "m= mmp()\n",
    "m[\"From\"] = EADDRESS\n",
    "m[\"To\"] = \"recipient@example.com\"\n",
    "m[\"Subject\"] = \"Test Email from Python\"\n",
    "body = \"Fall Detected!!\"\n",
    "m.attach(mt(body, \"plain\"))\n",
    "try:\n",
    "    s= smtplib.SMTP(SMTP,PORT)\n",
    "    s.starttls()\n",
    "    s.login(EADDRESS, EPASS)\n",
    "    s.sendmail(EADDRESS, \"sharvayu.zade.btech2023@sitnagpur.siu.edu.in\", m.as_string())\n",
    "    s.quit()\n",
    "    print(\"Email was sent\")\n",
    "except Exception as e:\n",
    "    print(\"Error:\", e)\n"
   ]
  }
 ],
 "metadata": {
  "kernelspec": {
   "display_name": "Python 3",
   "language": "python",
   "name": "python3"
  },
  "language_info": {
   "codemirror_mode": {
    "name": "ipython",
    "version": 3
   },
   "file_extension": ".py",
   "mimetype": "text/x-python",
   "name": "python",
   "nbconvert_exporter": "python",
   "pygments_lexer": "ipython3",
   "version": "3.12.9"
  }
 },
 "nbformat": 4,
 "nbformat_minor": 2
}
